{
 "cells": [
  {
   "cell_type": "code",
   "execution_count": 2,
   "metadata": {},
   "outputs": [
    {
     "name": "stdout",
     "output_type": "stream",
     "text": [
      "(48, 11, 94)\n"
     ]
    }
   ],
   "source": [
    "import cv2\n",
    "import numpy as np\n",
    "\n",
    "def rgbTohsv(r,g,b):\n",
    "    r,g,b=r/255,g/255,b/255\n",
    "\n",
    "    cmax = max(r,g,b) #compute the maximum\n",
    "    cmin = min(r,g,b) #compute the minimum\n",
    "\n",
    "    diff = cmax - cmin\n",
    "\n",
    "    if cmax == cmin:\n",
    "        h=int(0)\n",
    "\n",
    "    elif cmax == r:\n",
    "        h = int((60*((g-b)/diff)+360)%360)\n",
    "\n",
    "    elif cmax == g:\n",
    "        h =  int((60*((b-r)/diff)+120)%360)\n",
    "\n",
    "    elif cmax == b:\n",
    "        h = int((60*((r-g)/diff)+240)%360)\n",
    "\n",
    "    if cmax == 0:\n",
    "        s=int(0)\n",
    "    else:\n",
    "        s=int((diff/cmax)*100)\n",
    "\n",
    "    v=int(cmax*100)\n",
    "\n",
    "    return h,s,v\n",
    " \n",
    "print(rgbTohsv(240,235,213)) #input rgb value , output 100%=255\n",
    "\n",
    "\n",
    "\n",
    "\n",
    "\n",
    "\n",
    "\n",
    "\n",
    "\n",
    "\n",
    "\n",
    "\n"
   ]
  }
 ],
 "metadata": {
  "kernelspec": {
   "display_name": "Python 3.7.9 64-bit",
   "language": "python",
   "name": "python3"
  },
  "language_info": {
   "codemirror_mode": {
    "name": "ipython",
    "version": 3
   },
   "file_extension": ".py",
   "mimetype": "text/x-python",
   "name": "python",
   "nbconvert_exporter": "python",
   "pygments_lexer": "ipython3",
   "version": "3.7.9"
  },
  "orig_nbformat": 4,
  "vscode": {
   "interpreter": {
    "hash": "d49c3f6d6dd49f9272b571d9fad348ab55b8c6c3f691520d74ed0af1f69c3dd8"
   }
  }
 },
 "nbformat": 4,
 "nbformat_minor": 2
}
